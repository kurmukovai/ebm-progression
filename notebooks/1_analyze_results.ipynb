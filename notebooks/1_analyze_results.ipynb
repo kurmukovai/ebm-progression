{
 "cells": [
  {
   "cell_type": "code",
   "execution_count": 1,
   "metadata": {},
   "outputs": [],
   "source": [
    "from pathlib import Path\n",
    "from sklearn.model_selection import train_test_split\n",
    "\n",
    "import pandas as pd\n",
    "import numpy as np\n",
    "\n",
    "from ebm.probability import log_distributions, fit_distributions, predict_stage\n",
    "from ebm.mcmc import greedy_ascent, mcmc, get_optimal_order\n",
    "\n",
    "import matplotlib.pyplot as plt\n",
    "%matplotlib inline"
   ]
  },
  {
   "cell_type": "code",
   "execution_count": 2,
   "metadata": {},
   "outputs": [],
   "source": [
    "# Load the data\n",
    "\n",
    "folder = Path('/data01/bgutman/MRI_data/PPMI/EBM_data/')\n",
    "data = pd.read_csv(folder / 'corrected_ENIGMA-PD_Mixed_Effects_train_test_split.csv', index_col=0)\n",
    "df = pd.read_csv(folder / 'ENIGMA-PD-regional.csv') # to merge with data, to obtain patients' metadata\n",
    "\n",
    "train, test = train_test_split(data, stratify=data['cohort'], test_size=0.1, random_state=777)\n",
    "X_train = train.drop(['SubjID', 'Dx', 'Sex', 'Age', 'cohort'], axis=1).values\n",
    "y_train = train['Dx'].values\n",
    "X_test = test.drop(['SubjID', 'Dx', 'Sex', 'Age', 'cohort'], axis=1).values\n",
    "y_test = test['Dx'].values\n",
    "\n",
    "# Precompute train, test probability distributions P(x| E), P(x| not E)\n",
    "\n",
    "train_log_p_e, train_log_p_not_e = log_distributions(X_train, y_train)\n",
    "test_log_p_e, test_log_p_not_e = log_distributions(X_train, y_train, X_test=X_test, y_test=y_test)"
   ]
  },
  {
   "cell_type": "code",
   "execution_count": 3,
   "metadata": {},
   "outputs": [],
   "source": [
    "# Load results from MCMC run\n",
    "\n",
    "# No connectivity prior\n",
    "all_orders = np.load('../logs/order_mcmc.npy')\n",
    "order_map, best_order = get_optimal_order(all_orders)\n",
    "\n",
    "# With connectivity prior\n",
    "# all_orders_prior = np.load('../logs/prior_order_mcmc.npy')\n",
    "# order_map_prior, best_order_prior = get_optimal_order(all_orders_prior)"
   ]
  },
  {
   "cell_type": "code",
   "execution_count": 4,
   "metadata": {},
   "outputs": [
    {
     "data": {
      "text/plain": [
       "array([43,  9,  6, 40, 61, 27, 23, 57, 29, 15, 22, 56, 36,  2, 60, 26, 25,\n",
       "       20, 54, 63, 18, 16, 62, 28, 34, 13, 47, 41,  7, 59, 51, 52, 50, 44,\n",
       "        0, 11, 32, 53,  3, 37, 45, 67, 49, 39, 66, 64, 17, 46, 12, 10, 30,\n",
       "       33, 21, 55, 24, 42, 58,  8, 35,  4, 38, 31, 65, 48, 14,  1, 19,  5])"
      ]
     },
     "execution_count": 4,
     "metadata": {},
     "output_type": "execute_result"
    }
   ],
   "source": [
    "best_order"
   ]
  },
  {
   "cell_type": "code",
   "execution_count": 5,
   "metadata": {},
   "outputs": [
    {
     "data": {
      "image/png": "[encoded data removed]",
      "text/plain": [
       "<Figure size 432x288 with 1 Axes>"
      ]
     },
     "metadata": {
      "needs_background": "light"
     },
     "output_type": "display_data"
    }
   ],
   "source": [
    "plt.imshow(order_map[best_order]);"
   ]
  },
  {
   "cell_type": "code",
   "execution_count": 6,
   "metadata": {},
   "outputs": [
    {
     "name": "stderr",
     "output_type": "stream",
     "text": [
      "/home/kurmukov/miniconda3/lib/python3.7/site-packages/ipykernel_launcher.py:6: SettingWithCopyWarning: \n",
      "A value is trying to be set on a copy of a slice from a DataFrame.\n",
      "Try using .loc[row_indexer,col_indexer] = value instead\n",
      "\n",
      "See the caveats in the documentation: http://pandas.pydata.org/pandas-docs/stable/indexing.html#indexing-view-versus-copy\n",
      "  \n",
      "/home/kurmukov/miniconda3/lib/python3.7/site-packages/ipykernel_launcher.py:10: SettingWithCopyWarning: \n",
      "A value is trying to be set on a copy of a slice from a DataFrame.\n",
      "Try using .loc[row_indexer,col_indexer] = value instead\n",
      "\n",
      "See the caveats in the documentation: http://pandas.pydata.org/pandas-docs/stable/indexing.html#indexing-view-versus-copy\n",
      "  # Remove the CWD from sys.path while we load stuff.\n"
     ]
    }
   ],
   "source": [
    "# Given optimal events order and probability distr. p(x| E), p(x| not E) computes\n",
    "# optimale stage for input subjects\n",
    "\n",
    "probas = predict_stage(best_order, train_log_p_e, train_log_p_not_e).T\n",
    "stage = np.argmax(probas, axis=1)\n",
    "train['pred_stage'] = stage\n",
    "\n",
    "probas = predict_stage(best_order, test_log_p_e, test_log_p_not_e).T\n",
    "stage = np.argmax(probas, axis=1)\n",
    "test['pred_stage'] = stage"
   ]
  },
  {
   "cell_type": "code",
   "execution_count": 7,
   "metadata": {},
   "outputs": [],
   "source": [
    "train_stages = pd.merge(left=df[['SubjID', 'site', 'cohort', 'HY1234']], right=train, on='SubjID', how='right')\n",
    "test_stages = pd.merge(left=df[['SubjID', 'site', 'cohort', 'HY1234']], right=test, on='SubjID', how='right')"
   ]
  },
  {
   "cell_type": "code",
   "execution_count": 8,
   "metadata": {},
   "outputs": [],
   "source": [
    "train_stages.to_csv('/data01/bgutman/parkinson_ebm/train_parkinson_progression_stages.csv')\n",
    "test_stages.to_csv('/data01/bgutman/parkinson_ebm/test_parkinson_progression_stages.csv')"
   ]
  },
  {
   "cell_type": "code",
   "execution_count": null,
   "metadata": {},
   "outputs": [],
   "source": []
  },
  {
   "cell_type": "markdown",
   "metadata": {},
   "source": [
    "# compute expected stage instead of MAP"
   ]
  },
  {
   "cell_type": "code",
   "execution_count": 9,
   "metadata": {},
   "outputs": [],
   "source": [
    "def compute_expectation(log_probabilities):\n",
    "    expected = 0\n",
    "    for s, p in zip(np.arange(68), np.exp(log_probabilities)):\n",
    "        expected+= s*p\n",
    "    return expected/np.exp(log_probabilities).sum()\n",
    "\n",
    "def compute_all_expectations(all_log_probabilities):\n",
    "    expected = []\n",
    "    for subject in all_log_probabilities:\n",
    "        expected.append(compute_expectation(subject))\n",
    "    return expected"
   ]
  },
  {
   "cell_type": "code",
   "execution_count": null,
   "metadata": {},
   "outputs": [],
   "source": []
  },
  {
   "cell_type": "markdown",
   "metadata": {},
   "source": [
    "# TODO: compute stats. signific. t-test"
   ]
  },
  {
   "cell_type": "code",
   "execution_count": null,
   "metadata": {},
   "outputs": [],
   "source": []
  },
  {
   "cell_type": "code",
   "execution_count": null,
   "metadata": {},
   "outputs": [],
   "source": []
  }
 ],
 "metadata": {
  "kernelspec": {
   "display_name": "Python 3",
   "language": "python",
   "name": "python3"
  },
  "language_info": {
   "codemirror_mode": {
    "name": "ipython",
    "version": 3
   },
   "file_extension": ".py",
   "mimetype": "text/x-python",
   "name": "python",
   "nbconvert_exporter": "python",
   "pygments_lexer": "ipython3",
   "version": "3.7.3"
  }
 },
 "nbformat": 4,
 "nbformat_minor": 2
}
